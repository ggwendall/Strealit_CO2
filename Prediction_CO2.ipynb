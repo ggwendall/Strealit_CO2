{
 "cells": [
  {
   "cell_type": "markdown",
   "id": "03daec40",
   "metadata": {},
   "source": [
    "## Notebook 2: Apprentissage automatique, Regression: Polution CO2"
   ]
  },
  {
   "cell_type": "markdown",
   "id": "2e082814",
   "metadata": {},
   "source": [
    "#### Importation des librairies"
   ]
  },
  {
   "cell_type": "code",
   "execution_count": 149,
   "id": "82bfb92a",
   "metadata": {},
   "outputs": [],
   "source": [
    "import pandas as pd\n",
    "import numpy as np\n",
    "#-------------------------------------------------\n",
    "import sklearn\n",
    "from sklearn.model_selection import train_test_split, KFold\n",
    "from sklearn.impute import KNNImputer\n",
    "from sklearn.metrics import *\n",
    "#-------------------------------------------------\n",
    "from sklearn.pipeline import Pipeline\n",
    "from sklearn.pipeline import make_pipeline\n",
    "\n",
    "from sklearn.preprocessing import OneHotEncoder, StandardScaler, MinMaxScaler, LabelEncoder\n",
    "from sklearn.compose import ColumnTransformer\n",
    "from sklearn.compose import TransformedTargetRegressor, make_column_transformer\n",
    "\n",
    "#--------------------------------------------------------\n",
    "from sklearn.dummy import DummyRegressor\n",
    "from sklearn.linear_model import LinearRegression, SGDRegressor\n",
    "\n",
    "#--------------------------------------------------------\n",
    "from sklearn.ensemble import RandomForestRegressor, GradientBoostingRegressor\n",
    "from sklearn.inspection import permutation_importance\n",
    "#------------------------------------------------\n",
    "from xgboost import XGBRegressor\n",
    "\n",
    "#-----------------------------------------------------------\n",
    "from sklearn.model_selection import GridSearchCV\n",
    "#-----------------------------------------------------------\n",
    "from joblib import dump,load"
   ]
  },
  {
   "cell_type": "markdown",
   "id": "dbeb2921",
   "metadata": {},
   "source": [
    "## Checklist\n",
    "\n",
    "Depuis 2001, **l’ADEME** acquiert tous les ans ces données auprès de **l’Union Technique de l’Automobile du motocycle et du Cycle UTAC** (en charge de l’homologation des véhicules avant leur mise en vente) en accord avec le ministère du développement durable.\n",
    "Pour chaque véhicule les données d’origine (transmises par l’Utac) sont les suivantes :\n",
    "\n",
    "* **Les consommations de carburant**\n",
    "\n",
    "* **Les émissions de dioxyde de carbone (CO2)**\n",
    "\n",
    "* **Les émissions des polluants de l’air** (réglementés dans le cadre de la norme Euro)\n",
    "\n",
    "* **L’ensemble des caractéristiques techniques des véhicules** (gammes, marques, modèles, n° de CNIT, type d’énergie ...)\n",
    "\n",
    "\n",
    "\n",
    "# L'inventaire des variables pertinentes:\n",
    "\n",
    "Les données comprenent des variables pertinentes suivantes:\n",
    "\n",
    "* **lib_mrq_utac**: La marque, il y'a 12.\n",
    "\n",
    "* **lib_mod**: Le modèle commerciale, il y'a 20.\n",
    "\n",
    "* **cod_cbr**: Le type de carburant, il y a 5.\n",
    "\n",
    "* **hybride**: Information permettant d’identifier les véhicules hybrides (O/N)\n",
    "\n",
    "* **puiss_max** : Puissance maximale\n",
    "\n",
    "* **typ_boite_nb_rapp**: Type boite de vitesse et le nombre de rapport.\n",
    "\n",
    "* **conso_urb**: Consommation urbaine de carburant (en l/100km),\n",
    "\n",
    "* **conso_exurb**: consommation extra urbaine de carburant (en l/100km),\n",
    "\n",
    "* **conso_mixte**: Consommation mixte de carburant (en l/100km),\n",
    "\n",
    "* **co2**: Emission de CO2 (en g/km),\n",
    "\n",
    "* **masse_ordma_min**: Masse en ordre de marche mini\n",
    "\n",
    "* **masse_ordma_max**: Masse en ordre de marche max\n",
    " \n",
    "* **Carrosserie**: Carrosserie\n",
    "\n",
    "* **gamme**: Gamme du véhicule\n",
    "\n",
    "\n",
    "\n",
    "# Objectif\n",
    "\n",
    "Notre objectif majeur dans ce notebook 2 est de :\n",
    "\n",
    "Prédire les emisisions de **CO2** des vehicules en fonction de certaines informations (Variables explicatives)\n",
    "\n",
    "* En utilisant 4 à 5 modéles différents\n",
    "\n",
    "* En comparant  les scores\n",
    "    \n",
    "* En choissisant le meilleur modèle\n",
    "\n",
    "\n",
    "# Description des données\n",
    "\n",
    "Lien vers les données: https://www.data.gouv.fr/fr/datasets/emissions-de-co2-et-de-polluants-des-vehicules-commercialises-en-france/\n"
   ]
  },
  {
   "cell_type": "markdown",
   "id": "4aa43bf0",
   "metadata": {},
   "source": [
    "### Chargement, lecture, apercu et infos des données"
   ]
  },
  {
   "cell_type": "code",
   "execution_count": 142,
   "id": "564f490c",
   "metadata": {},
   "outputs": [
    {
     "name": "stdout",
     "output_type": "stream",
     "text": [
      "201.67065857381698\n"
     ]
    }
   ],
   "source": [
    "data_model = pd.read_csv(\"data_model.csv\")\n",
    "data_model['Carrosserie'].to_csv('carrosseries.csv')\n"
   ]
  },
  {
   "cell_type": "markdown",
   "id": "bd400b03",
   "metadata": {},
   "source": [
    "### Selectionner les feautures les plus importans"
   ]
  },
  {
   "cell_type": "code",
   "execution_count": 143,
   "id": "3f815f33",
   "metadata": {},
   "outputs": [],
   "source": [
    "New_Data = data_model[['Carrosserie', 'masse_ordma_min', 'masse_ordma_max', 'co2']]"
   ]
  },
  {
   "cell_type": "code",
   "execution_count": 144,
   "id": "f1bbc7ee",
   "metadata": {},
   "outputs": [],
   "source": [
    "Y = New_Data['co2']\n",
    "X = New_Data.drop(['co2'] ,axis =1)"
   ]
  },
  {
   "cell_type": "markdown",
   "id": "0587cf73",
   "metadata": {},
   "source": [
    "### Traiter la colonne Carrosserie"
   ]
  },
  {
   "cell_type": "code",
   "execution_count": 145,
   "id": "d08a9139",
   "metadata": {},
   "outputs": [
    {
     "data": {
      "text/plain": [
       "['Encoder.pkl']"
      ]
     },
     "execution_count": 145,
     "metadata": {},
     "output_type": "execute_result"
    }
   ],
   "source": [
    "le = LabelEncoder()\n",
    "X['Carrosserie']=le.fit_transform(X['Carrosserie'])\n",
    "dump(le,'Encoder.pkl')"
   ]
  },
  {
   "cell_type": "markdown",
   "id": "2254f351",
   "metadata": {},
   "source": [
    "### Prediction de CO2\n",
    "    \n",
    "Pour chacun de nos modèles:\n",
    "   * **DummyRegressor**,\n",
    "   * **LinearRegression**, \n",
    "   * **SGDRegressor**, \n",
    "   * **RandomForestRegressor**,\n",
    "   * **GradientBoostingRegressor**,\n",
    "   * **XGBRegressor**, \n",
    "    \n",
    "Nous allons predire le niveau d'émission de **Co2** puis établir une comparaison entre les performances de chaque modèle.\n",
    "\n",
    "    Appliquer un GridSearch pour optimiser les hyperparamètres de chaque modèle\n",
    "    Paramètrer dans GridSearch les scores qui sont adaptés à la régression\n",
    "    Identifier le meilleur modèle"
   ]
  },
  {
   "cell_type": "code",
   "execution_count": 146,
   "id": "2a417b48",
   "metadata": {},
   "outputs": [
    {
     "name": "stdout",
     "output_type": "stream",
     "text": [
      "{'model': DummyRegressor(), 'best_params': {'strategy': 'median'}, 'score': -0.21342788285930653}\n",
      "{'model': LinearRegression(), 'best_params': {'fit_intercept': True}, 'score': 0.15675550225254772}\n",
      "{'model': SGDRegressor(), 'best_params': {'penalty': 'l2'}, 'score': 0.16328320517308184}\n",
      "{'model': RandomForestRegressor(), 'best_params': {'criterion': 'squared_error', 'n_estimators': 100}, 'score': 0.24728143728038648}\n",
      "{'model': GradientBoostingRegressor(), 'best_params': {'learning_rate': 0.1, 'loss': 'squared_error'}, 'score': 0.2988379974139376}\n",
      "{'model': XGBRegressor(base_score=None, booster=None, callbacks=None,\n",
      "             colsample_bylevel=None, colsample_bynode=None,\n",
      "             colsample_bytree=None, early_stopping_rounds=None,\n",
      "             enable_categorical=False, eval_metric=None, feature_types=None,\n",
      "             gamma=None, gpu_id=None, grow_policy=None, importance_type=None,\n",
      "             interaction_constraints=None, learning_rate=None, max_bin=None,\n",
      "             max_cat_threshold=None, max_cat_to_onehot=None,\n",
      "             max_delta_step=None, max_depth=None, max_leaves=None,\n",
      "             min_child_weight=None, missing=nan, monotone_constraints=None,\n",
      "             n_estimators=100, n_jobs=None, num_parallel_tree=None,\n",
      "             predictor=None, random_state=None, ...), 'best_params': {}, 'score': 0.27817378613979293}\n"
     ]
    }
   ],
   "source": [
    "model = [DummyRegressor(),LinearRegression(),SGDRegressor(),RandomForestRegressor(),GradientBoostingRegressor(), XGBRegressor()]\n",
    "param_grids = [{'strategy':[\"mean\", \"median\"]},\n",
    "               {\"fit_intercept\":[True, False]},\n",
    "               {'penalty':['l2','l1','elasticnet',None]},\n",
    "               {'n_estimators':[25,50,100], 'criterion':['squared_error']},\n",
    "               {'loss':['squared_error',],'learning_rate':[0.1,1]},\n",
    "               {}]\n",
    "\n",
    "results = []\n",
    "\n",
    "scaler = StandardScaler()\n",
    "scaler.fit(X)\n",
    "X=scaler.transform(X)\n",
    "\n",
    "dump(scaler, 'Scaler.pkl')\n",
    "\n",
    "for i, (model, param_grid) in enumerate(zip(model, param_grids)):\n",
    "     grid = GridSearchCV(model,param_grid, refit= True, n_jobs=-1)\n",
    "     grid.fit(X,Y)\n",
    "     results.append({'model':model, 'best_params':grid.best_params_, 'score':grid.best_score_})\n",
    "for i in results:\n",
    "     print(i)\n",
    "    "
   ]
  },
  {
   "cell_type": "code",
   "execution_count": 147,
   "id": "fe2f74e6",
   "metadata": {},
   "outputs": [],
   "source": [
    "closest_to_zero_score = float('inf')\n",
    "\n",
    "best_params = None\n",
    "best_model_name = None\n",
    "\n",
    "for result in results:\n",
    "    score = result['score']\n",
    "    model = result['model']\n",
    "    if abs(score) < abs(closest_to_zero_score):\n",
    "        closest_to_zero_score = score\n",
    "        best_params = result['best_params']\n",
    "        best_model = model"
   ]
  },
  {
   "cell_type": "code",
   "execution_count": 148,
   "id": "9319b01b",
   "metadata": {},
   "outputs": [
    {
     "data": {
      "text/plain": [
       "['Model.pkl']"
      ]
     },
     "execution_count": 148,
     "metadata": {},
     "output_type": "execute_result"
    }
   ],
   "source": [
    "model=best_model.set_params(**best_params)\n",
    "model.fit(X,Y)\n",
    "\n",
    "dump(model,'Model.pkl')"
   ]
  },
  {
   "cell_type": "markdown",
   "id": "65dd3d8a",
   "metadata": {},
   "source": [
    "### Application Web\n",
    "\n",
    "Développer une application Streamlit avec les options suivantes :\n",
    "\n",
    "    1- L'utilisateur doit selectionner le type du carrosserie à partire d'un menu déroulant\n",
    "    2- L'utilisateur doit saisir 'masse_ordma_min' et 'masse_ordma_max' dans deux champs de saisie différent\n",
    "    3- Programmer un boutton pour lancer la prédiction de CO2"
   ]
  },
  {
   "cell_type": "code",
   "execution_count": null,
   "id": "a6b80f7e",
   "metadata": {},
   "outputs": [],
   "source": []
  }
 ],
 "metadata": {
  "kernelspec": {
   "display_name": "Python 3 (ipykernel)",
   "language": "python",
   "name": "python3"
  },
  "language_info": {
   "codemirror_mode": {
    "name": "ipython",
    "version": 3
   },
   "file_extension": ".py",
   "mimetype": "text/x-python",
   "name": "python",
   "nbconvert_exporter": "python",
   "pygments_lexer": "ipython3",
   "version": "3.8.10"
  }
 },
 "nbformat": 4,
 "nbformat_minor": 5
}
